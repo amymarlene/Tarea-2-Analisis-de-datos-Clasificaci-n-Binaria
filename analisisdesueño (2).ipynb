{
  "nbformat": 4,
  "nbformat_minor": 0,
  "metadata": {
    "colab": {
      "provenance": []
    },
    "kernelspec": {
      "name": "python3",
      "display_name": "Python 3"
    },
    "language_info": {
      "name": "python"
    }
  },
  "cells": [
    {
      "cell_type": "code",
      "execution_count": null,
      "metadata": {
        "id": "h8c8TnxmU2-n"
      },
      "outputs": [],
      "source": [
        "# Librerías\n",
        "import pandas as pd\n",
        "import numpy as np\n",
        "import matplotlib.pyplot as plt\n",
        "import seaborn as sns\n",
        "from sklearn.model_selection import train_test_split\n",
        "from google.colab import files\n",
        "\n",
        "sns.set(style='whitegrid')"
      ]
    },
    {
      "cell_type": "code",
      "source": [
        "# Subir archivo\n",
        "uploaded = files.upload()\n",
        "\n",
        "# Cargar CSV en DataFrame\n",
        "df = pd.read_csv(list(uploaded.keys())[0])\n",
        "df.head()"
      ],
      "metadata": {
        "id": "5HfEUMlcVLmB"
      },
      "execution_count": null,
      "outputs": []
    },
    {
      "cell_type": "code",
      "source": [
        "print('Filas, Columnas:', df.shape)\n",
        "print('\\nTipos de variables:\\n', df.dtypes)\n",
        "print('\\nValores nulos:\\n', df.isnull().sum())"
      ],
      "metadata": {
        "id": "bn8hElejVO_6"
      },
      "execution_count": null,
      "outputs": []
    },
    {
      "cell_type": "code",
      "source": [
        "categorical_cols = ['Gender', 'Occupation', 'BMI Category', 'Sleep Disorder']\n",
        "for col in categorical_cols:\n",
        "    df[col] = df[col].astype('category')\n",
        "df.dtypes"
      ],
      "metadata": {
        "id": "F2li_HV1VQ2b"
      },
      "execution_count": null,
      "outputs": []
    },
    {
      "cell_type": "code",
      "source": [
        "# Estadísticas descriptivas\n",
        "display(df.describe(include='all'))\n",
        "\n",
        "# Histogramas de variables numéricas\n",
        "num_cols = df.select_dtypes(include=np.number).columns.tolist()\n",
        "df[num_cols].hist(figsize=(12,8), bins=15);"
      ],
      "metadata": {
        "id": "4TQ9LGlfVTS-"
      },
      "execution_count": null,
      "outputs": []
    },
    {
      "cell_type": "code",
      "source": [
        "def remove_outliers_iqr(df, col_list):\n",
        "    for col in col_list:\n",
        "        Q1 = df[col].quantile(0.25)\n",
        "        Q3 = df[col].quantile(0.75)\n",
        "        IQR = Q3 - Q1\n",
        "        lower = Q1 - 1.5*IQR\n",
        "        upper = Q3 + 1.5*IQR\n",
        "        df = df[(df[col] >= lower) & (df[col] <= upper)]\n",
        "    return df\n",
        "\n",
        "numeric_cols_for_outliers = ['Heart Rate', 'Sleep Duration', 'Physical Activity Level', 'Daily Steps']\n",
        "df = remove_outliers_iqr(df, numeric_cols_for_outliers)\n",
        "df.shape"
      ],
      "metadata": {
        "id": "oH4OZ5FyVXNz"
      },
      "execution_count": null,
      "outputs": []
    },
    {
      "cell_type": "code",
      "source": [
        "# Eliminar filas con Stress Level < 3\n",
        "df = df[df['Stress Level'] >= 3]\n",
        "\n",
        "# Crear variable binaria\n",
        "df['stress_binary'] = df['Stress Level'].apply(lambda x: 1 if x >= 7 else 0)\n",
        "\n",
        "# Eliminar columna original\n",
        "df = df.drop(columns=['Stress Level'])\n",
        "\n",
        "# Distribución final\n",
        "df['stress_binary'].value_counts()"
      ],
      "metadata": {
        "id": "uDr1SOd8VaFZ"
      },
      "execution_count": null,
      "outputs": []
    },
    {
      "cell_type": "code",
      "source": [
        "# Sleep Duration vs Estrés\n",
        "plt.figure(figsize=(8,5))\n",
        "sns.boxplot(x='stress_binary', y='Sleep Duration', data=df)\n",
        "plt.title('Sleep Duration vs Stress Binary')\n",
        "plt.show()\n",
        "\n",
        "# Physical Activity Level vs Estrés\n",
        "plt.figure(figsize=(8,5))\n",
        "sns.boxplot(x='stress_binary', y='Physical Activity Level', data=df)\n",
        "plt.title('Physical Activity Level vs Stress Binary')\n",
        "plt.show()\n",
        "\n",
        "# Sleep Disorder vs Estrés\n",
        "plt.figure(figsize=(8,5))\n",
        "sns.countplot(x='Sleep Disorder', hue='stress_binary', data=df)\n",
        "plt.title('Sleep Disorder vs Stress Binary')\n",
        "plt.show()"
      ],
      "metadata": {
        "id": "iR2TYp1aVb5h"
      },
      "execution_count": null,
      "outputs": []
    },
    {
      "cell_type": "code",
      "source": [
        "# Exclude non-numeric columns for correlation matrix\n",
        "numeric_df = df.select_dtypes(include=np.number)\n",
        "corr = numeric_df.corr()\n",
        "plt.figure(figsize=(10,8))\n",
        "sns.heatmap(corr, annot=True, cmap='coolwarm')\n",
        "plt.title('Matriz de Correlación')\n",
        "plt.show()"
      ],
      "metadata": {
        "id": "kiDYHMCKVdtj"
      },
      "execution_count": null,
      "outputs": []
    },
    {
      "cell_type": "code",
      "source": [
        "train, test = train_test_split(df, test_size=0.2, stratify=df['stress_binary'], random_state=42)\n",
        "\n",
        "# Guardar CSV\n",
        "train.to_csv('train.csv', index=False)\n",
        "test.to_csv('test.csv', index=False)\n",
        "\n",
        "print('Train:', train.shape, 'Test:', test.shape)"
      ],
      "metadata": {
        "id": "ReuNbeEvVfO4"
      },
      "execution_count": null,
      "outputs": []
    },
    {
      "cell_type": "code",
      "source": [
        "# Columnas finales\n",
        "df.columns"
      ],
      "metadata": {
        "id": "Y3LkJprEVgyl"
      },
      "execution_count": null,
      "outputs": []
    }
  ]
}